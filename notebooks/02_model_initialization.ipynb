{
 "cells": [
  {
   "cell_type": "markdown",
   "metadata": {},
   "source": [
    "## Model initialization"
   ]
  },
  {
   "cell_type": "markdown",
   "metadata": {},
   "source": [
    "### Roost"
   ]
  },
  {
   "cell_type": "markdown",
   "metadata": {},
   "source": [
    "paper - https://doi.org/10.1038/s41467-020-19964-7<br>\n",
    "GitHub - https://github.com/CompRhys/aviary"
   ]
  },
  {
   "cell_type": "code",
   "execution_count": null,
   "metadata": {},
   "outputs": [],
   "source": [
    "from aviary.roost.model import Roost\n",
    "\n",
    "\n",
    "model = Roost(\n",
    "    robust=False,\n",
    "    n_targets=[1],\n",
    "    elem_emb_len=200,\n",
    "    task_dict={'target': 'regression'},\n",
    "    elem_fea_len=64,\n",
    "    elem_gate=(128,),\n",
    "    elem_msg=(128,),\n",
    "    n_graph=3,\n",
    "    cry_gate=(128,),\n",
    "    cry_msg=(128,),\n",
    "    trunk_hidden=(512, 256),\n",
    "    out_hidden=(128, 64, 32),\n",
    ")"
   ]
  },
  {
   "cell_type": "markdown",
   "metadata": {},
   "source": [
    "### Wren"
   ]
  },
  {
   "cell_type": "markdown",
   "metadata": {},
   "source": [
    "paper - https://doi.org/10.1126/sciadv.abn4117<br>\n",
    "GitHub - https://github.com/CompRhys/aviary"
   ]
  },
  {
   "cell_type": "code",
   "execution_count": null,
   "metadata": {},
   "outputs": [],
   "source": [
    "from aviary.wren.model import Wren\n",
    "\n",
    "\n",
    "model = Wren(\n",
    "    robust=False,\n",
    "    n_targets=[1],\n",
    "    elem_emb_len=200,\n",
    "    sym_emb_len=444,\n",
    "    task_dict={'target': 'regression'},\n",
    "    elem_gate=(128,),\n",
    "    elem_msg=(128,),\n",
    "    n_graph=3,\n",
    "    cry_gate=(128,),\n",
    "    cry_msg=(128,),\n",
    "    trunk_hidden=(512, 256),\n",
    "    out_hidden=(128, 64, 32),\n",
    ")"
   ]
  },
  {
   "cell_type": "markdown",
   "metadata": {},
   "source": [
    "### CG2-NNs"
   ]
  },
  {
   "cell_type": "markdown",
   "metadata": {},
   "source": [
    "paper - https://doi.org/10.48550/arXiv.2310.19500<br>\n",
    "GitHub - https://github.com/korolewadim/cgcgnet"
   ]
  },
  {
   "cell_type": "code",
   "execution_count": null,
   "metadata": {},
   "outputs": [],
   "source": [
    "from cgcgnet.nn import GraphConvModel\n",
    "\n",
    "\n",
    "model = GraphConvModel(\n",
    "    num_conv_layers=3,\n",
    "    num_fc_layers=1,\n",
    "    conv_dim=128,\n",
    "    fc_dim=128,\n",
    "    conv_norm=\"both\",\n",
    ")"
   ]
  },
  {
   "cell_type": "code",
   "execution_count": null,
   "metadata": {},
   "outputs": [],
   "source": [
    "from cgcgnet.nn import SAGEConvModel\n",
    "\n",
    "\n",
    "model = SAGEConvModel(\n",
    "    num_conv_layers=3,\n",
    "    num_fc_layers=1,\n",
    "    conv_dim=128,\n",
    "    fc_dim=128,\n",
    "    agg_type=\"pool\",\n",
    "    feat_drop=0.0,\n",
    ")"
   ]
  },
  {
   "cell_type": "code",
   "execution_count": null,
   "metadata": {},
   "outputs": [],
   "source": [
    "from cgcgnet.nn import GATConvModel\n",
    "\n",
    "\n",
    "model = GATConvModel(\n",
    "    num_conv_layers=3,\n",
    "    num_fc_layers=1,\n",
    "    conv_dim=128,\n",
    "    fc_dim=128,\n",
    "    num_heads=8,\n",
    "    lrelu_slope=0.2,\n",
    ")"
   ]
  },
  {
   "cell_type": "code",
   "execution_count": null,
   "metadata": {},
   "outputs": [],
   "source": [
    "from cgcgnet.nn import GATv2ConvModel\n",
    "\n",
    "\n",
    "model = GATv2ConvModel(\n",
    "    num_conv_layers=3,\n",
    "    num_fc_layers=1,\n",
    "    conv_dim=128,\n",
    "    fc_dim=128,\n",
    "    num_heads=8,\n",
    "    lrelu_slope=0.2,\n",
    ")"
   ]
  },
  {
   "cell_type": "markdown",
   "metadata": {},
   "source": [
    "### CGCNN"
   ]
  },
  {
   "cell_type": "markdown",
   "metadata": {},
   "source": [
    "paper - https://doi.org/10.1103/PhysRevLett.120.145301<br>\n",
    "GitHub - https://github.com/Fung-Lab/MatDeepLearn"
   ]
  },
  {
   "cell_type": "code",
   "execution_count": null,
   "metadata": {},
   "outputs": [],
   "source": [
    "from matdeeplearn.models.cgcnn import CGCNN\n",
    "\n",
    "\n",
    "model = CGCNN(dataset, dim1=128, dim2=128, pre_fc_count=1, gc_count=3)"
   ]
  },
  {
   "cell_type": "markdown",
   "metadata": {},
   "source": [
    "### MEGNet"
   ]
  },
  {
   "cell_type": "markdown",
   "metadata": {},
   "source": [
    "paper - https://doi.org/10.1021/acs.chemmater.9b01294<br>\n",
    "GitHub - https://github.com/Fung-Lab/MatDeepLearn"
   ]
  },
  {
   "cell_type": "code",
   "execution_count": null,
   "metadata": {},
   "outputs": [],
   "source": [
    "from matdeeplearn.models.megnet import MEGNet\n",
    "\n",
    "\n",
    "model = MEGNet(\n",
    "    dataset,\n",
    "    dim1=128,\n",
    "    dim2=128,\n",
    "    dim3=128,\n",
    "    pre_fc_count=1,\n",
    "    gc_count=3,\n",
    "    gc_fc_count=2,\n",
    "    post_fc_count=1,\n",
    "    pool=\"set2set\",\n",
    ")"
   ]
  },
  {
   "cell_type": "markdown",
   "metadata": {},
   "source": [
    "### DeeperGATGNN"
   ]
  },
  {
   "cell_type": "markdown",
   "metadata": {},
   "source": [
    "paper - https://doi.org/10.1016/j.patter.2022.100491<br>\n",
    "GitHub - https://github.com/usccolumbia/deeperGATGNN"
   ]
  },
  {
   "cell_type": "code",
   "execution_count": null,
   "metadata": {},
   "outputs": [],
   "source": [
    "from matdeeplearn.models.deep_gatgnn import DEEP_GATGNN\n",
    "\n",
    "\n",
    "model = DEEP_GATGNN(\n",
    "    dataset,\n",
    "    dim1=128,\n",
    "    dim2=128,\n",
    "    gc_count=20,\n",
    "    post_fc_count=0,\n",
    ")"
   ]
  },
  {
   "cell_type": "markdown",
   "metadata": {},
   "source": [
    "### ALIGNN"
   ]
  },
  {
   "cell_type": "markdown",
   "metadata": {},
   "source": [
    "paper - https://doi.org/10.1038/s41524-021-00650-1<br>\n",
    "GitHub - https://github.com/usnistgov/alignn"
   ]
  },
  {
   "cell_type": "code",
   "execution_count": null,
   "metadata": {},
   "outputs": [],
   "source": [
    "from alignn.models.alignn import ALIGNN, ALIGNNConfig\n",
    "\n",
    "\n",
    "model = ALIGNN(\n",
    "    config=ALIGNNConfig(\n",
    "        name=\"alignn\", alignn_layers=3, gcn_layers=3, hidden_features=128\n",
    "    )\n",
    ")"
   ]
  }
 ],
 "metadata": {
  "kernelspec": {
   "display_name": "Python [conda env:ptggpu]",
   "language": "python",
   "name": "conda-env-ptggpu-py"
  },
  "language_info": {
   "codemirror_mode": {
    "name": "ipython",
    "version": 3
   },
   "file_extension": ".py",
   "mimetype": "text/x-python",
   "name": "python",
   "nbconvert_exporter": "python",
   "pygments_lexer": "ipython3",
   "version": "3.10.6"
  }
 },
 "nbformat": 4,
 "nbformat_minor": 4
}
